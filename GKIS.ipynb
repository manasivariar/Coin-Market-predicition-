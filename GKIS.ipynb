{
  "nbformat": 4,
  "nbformat_minor": 0,
  "metadata": {
    "colab": {
      "name": "GKIS.ipynb",
      "provenance": [],
      "collapsed_sections": [],
      "toc_visible": true,
      "mount_file_id": "1EfRzpC0FfDmvYl0P5uUZHqvQEqcT-6_t",
      "authorship_tag": "ABX9TyO/YnvJvXViYruszjLf1DCX",
      "include_colab_link": true
    },
    "kernelspec": {
      "name": "python3",
      "display_name": "Python 3"
    },
    "language_info": {
      "name": "python"
    }
  },
  "cells": [
    {
      "cell_type": "markdown",
      "metadata": {
        "id": "view-in-github",
        "colab_type": "text"
      },
      "source": [
        "<a href=\"https://colab.research.google.com/github/manasivariar/Coin-Market-predicition-/blob/main/GKIS.ipynb\" target=\"_parent\"><img src=\"https://colab.research.google.com/assets/colab-badge.svg\" alt=\"Open In Colab\"/></a>"
      ]
    },
    {
      "cell_type": "markdown",
      "metadata": {
        "id": "xyXX-RzuYYJF"
      },
      "source": [
        "Importing all the necessary libraries and packages which we'll need."
      ]
    },
    {
      "cell_type": "code",
      "metadata": {
        "id": "dz-mm03hqSIC"
      },
      "source": [
        "import numpy as np\n",
        "import pandas as pd\n",
        "import matplotlib.pyplot as plot\n",
        "import seaborn as sns\n",
        "import scipy\n",
        "import pickle\n",
        "from sklearn import metrics\n",
        "from sklearn.metrics import r2_score, mean_absolute_error\n",
        "from sklearn.model_selection import train_test_split\n",
        "from sklearn.preprocessing import PowerTransformer, MinMaxScaler, StandardScaler\n",
        "from sklearn.linear_model import LinearRegression\n",
        "from sklearn.pipeline import make_pipeline\n",
        "from sklearn.preprocessing import LabelEncoder\n",
        "\n",
        "%matplotlib inline"
      ],
      "execution_count": null,
      "outputs": []
    },
    {
      "cell_type": "markdown",
      "metadata": {
        "id": "AVJEuBgxYXKw"
      },
      "source": [
        "We'll load the csv dataset"
      ]
    },
    {
      "cell_type": "code",
      "metadata": {
        "id": "9onSbE-sso1H"
      },
      "source": [
        "content = pd.read_csv('/content/drive/MyDrive/GK IS/coin_summary_batch-20210415-122130.csv')"
      ],
      "execution_count": null,
      "outputs": []
    },
    {
      "cell_type": "markdown",
      "metadata": {
        "id": "j6rVulwuZAjY"
      },
      "source": [
        "Checking if the dataset is loaded properly or not"
      ]
    },
    {
      "cell_type": "code",
      "metadata": {
        "id": "DmmI1FKqUeiP"
      },
      "source": [
        "content.head()"
      ],
      "execution_count": null,
      "outputs": []
    },
    {
      "cell_type": "markdown",
      "metadata": {
        "id": "fuhl3NsTZFVf"
      },
      "source": [
        "We can see, there are a 40 columns and 496482 rows of which, 'links_in_count' is all NaN. Hence, we can drop it."
      ]
    },
    {
      "cell_type": "code",
      "metadata": {
        "id": "tw-cPP3lsy4Y"
      },
      "source": [
        "content.info()"
      ],
      "execution_count": null,
      "outputs": []
    },
    {
      "cell_type": "markdown",
      "metadata": {
        "id": "NkA5TJv2Zeie"
      },
      "source": [
        "Further describing the dataset, we can see few features have very high range of values."
      ]
    },
    {
      "cell_type": "code",
      "metadata": {
        "id": "gilbh0--tJXi"
      },
      "source": [
        "content.describe()"
      ],
      "execution_count": null,
      "outputs": []
    },
    {
      "cell_type": "code",
      "metadata": {
        "id": "oLZYzuwce_0h"
      },
      "source": [
        "content.corr()"
      ],
      "execution_count": null,
      "outputs": []
    },
    {
      "cell_type": "markdown",
      "metadata": {
        "id": "kyeZobuQfKAR"
      },
      "source": [
        "We can see, only few features are related to the target variable (market_cap). Hence we'll only keep those features."
      ]
    },
    {
      "cell_type": "code",
      "metadata": {
        "id": "KFyo-vEEzMgW"
      },
      "source": [
        "df = content[['name', 'days_added_since', 'page_views_per_user_value_days_1', 'price_usd', 'volume_24h', 'num_market_pairs', 'market_cap']]"
      ],
      "execution_count": null,
      "outputs": []
    },
    {
      "cell_type": "markdown",
      "metadata": {
        "id": "oJhgCWPAfpBE"
      },
      "source": [
        "As the name column consist of string data, we need to labelize them into number. Therefore, we'll use label encoder to achieve this."
      ]
    },
    {
      "cell_type": "code",
      "metadata": {
        "colab": {
          "base_uri": "https://localhost:8080/"
        },
        "id": "bkTSYz8hVGK3",
        "outputId": "4865a288-2029-4214-b468-a1a1546c651a"
      },
      "source": [
        "le=LabelEncoder()\n",
        "df['name'] = le.fit_transform(df['name'].astype('str'))"
      ],
      "execution_count": null,
      "outputs": [
        {
          "output_type": "stream",
          "text": [
            "/usr/local/lib/python3.7/dist-packages/ipykernel_launcher.py:2: SettingWithCopyWarning: \n",
            "A value is trying to be set on a copy of a slice from a DataFrame.\n",
            "Try using .loc[row_indexer,col_indexer] = value instead\n",
            "\n",
            "See the caveats in the documentation: https://pandas.pydata.org/pandas-docs/stable/user_guide/indexing.html#returning-a-view-versus-a-copy\n",
            "  \n"
          ],
          "name": "stderr"
        }
      ]
    },
    {
      "cell_type": "markdown",
      "metadata": {
        "id": "f9zV_KX5f7ID"
      },
      "source": [
        "Now as we can see, the data are all numeric now."
      ]
    },
    {
      "cell_type": "code",
      "metadata": {
        "id": "ZK4j8BB7VpcF"
      },
      "source": [
        "df.head()"
      ],
      "execution_count": null,
      "outputs": []
    },
    {
      "cell_type": "markdown",
      "metadata": {
        "id": "RhP5dIvrgCJN"
      },
      "source": [
        "Let us now check if any null values are present in our data"
      ]
    },
    {
      "cell_type": "code",
      "metadata": {
        "id": "zhmbE3gJt_YI",
        "colab": {
          "base_uri": "https://localhost:8080/"
        },
        "outputId": "ce7d7838-c6b3-48d3-dc6a-8d8d9fee8c6a"
      },
      "source": [
        "df.isnull().sum()"
      ],
      "execution_count": null,
      "outputs": [
        {
          "output_type": "execute_result",
          "data": {
            "text/plain": [
              "name                                0\n",
              "days_added_since                    0\n",
              "page_views_per_user_value_days_1    0\n",
              "price_usd                           0\n",
              "volume_24h                          0\n",
              "num_market_pairs                    0\n",
              "market_cap                          0\n",
              "dtype: int64"
            ]
          },
          "metadata": {
            "tags": []
          },
          "execution_count": 85
        }
      ]
    },
    {
      "cell_type": "code",
      "metadata": {
        "colab": {
          "base_uri": "https://localhost:8080/"
        },
        "id": "wnPj_s6tcBiJ",
        "outputId": "d82a8034-2dd6-46ee-83ec-309717fb465f"
      },
      "source": [
        "df.isna().sum()"
      ],
      "execution_count": null,
      "outputs": [
        {
          "output_type": "execute_result",
          "data": {
            "text/plain": [
              "name                                0\n",
              "days_added_since                    0\n",
              "page_views_per_user_value_days_1    0\n",
              "price_usd                           0\n",
              "volume_24h                          0\n",
              "num_market_pairs                    0\n",
              "market_cap                          0\n",
              "dtype: int64"
            ]
          },
          "metadata": {
            "tags": []
          },
          "execution_count": 86
        }
      ]
    },
    {
      "cell_type": "markdown",
      "metadata": {
        "id": "SJgLM5SNgVJ_"
      },
      "source": [
        "Checking if any values in days_added_since are less than 0, since days cannot be negative. "
      ]
    },
    {
      "cell_type": "code",
      "metadata": {
        "colab": {
          "base_uri": "https://localhost:8080/"
        },
        "id": "LLEq6_M2cXJq",
        "outputId": "f13d5079-c4d4-4461-b886-2eb3d2719f92"
      },
      "source": [
        "df[df[\"days_added_since\"]<0].count()"
      ],
      "execution_count": null,
      "outputs": [
        {
          "output_type": "execute_result",
          "data": {
            "text/plain": [
              "name                                4\n",
              "days_added_since                    4\n",
              "page_views_per_user_value_days_1    4\n",
              "price_usd                           4\n",
              "volume_24h                          4\n",
              "num_market_pairs                    4\n",
              "market_cap                          4\n",
              "dtype: int64"
            ]
          },
          "metadata": {
            "tags": []
          },
          "execution_count": 87
        }
      ]
    },
    {
      "cell_type": "markdown",
      "metadata": {
        "id": "9kFqM8fTgppO"
      },
      "source": [
        "As we saw, we have 4 data which are incorrect. Hence, we'll remove them."
      ]
    },
    {
      "cell_type": "code",
      "metadata": {
        "id": "g1uln28cB8fT"
      },
      "source": [
        "df = df.where(df['days_added_since'] >= 0)"
      ],
      "execution_count": null,
      "outputs": []
    },
    {
      "cell_type": "markdown",
      "metadata": {
        "id": "ZlatXxtdg0R_"
      },
      "source": [
        "Similarly we'll check if market_cap is negative or not and remove any such data, if present"
      ]
    },
    {
      "cell_type": "code",
      "metadata": {
        "colab": {
          "base_uri": "https://localhost:8080/"
        },
        "id": "ZljbnyM_cIBo",
        "outputId": "779ae258-0f22-410f-8f1c-94a402f51f93"
      },
      "source": [
        "df[df[\"market_cap\"]<0].count()"
      ],
      "execution_count": null,
      "outputs": [
        {
          "output_type": "execute_result",
          "data": {
            "text/plain": [
              "name                                4\n",
              "days_added_since                    4\n",
              "page_views_per_user_value_days_1    4\n",
              "price_usd                           4\n",
              "volume_24h                          4\n",
              "num_market_pairs                    4\n",
              "market_cap                          4\n",
              "dtype: int64"
            ]
          },
          "metadata": {
            "tags": []
          },
          "execution_count": 89
        }
      ]
    },
    {
      "cell_type": "code",
      "metadata": {
        "id": "C95RlVuKbdkS"
      },
      "source": [
        "df = df.where(df['market_cap'] >= 0)"
      ],
      "execution_count": null,
      "outputs": []
    },
    {
      "cell_type": "markdown",
      "metadata": {
        "id": "1eHVUe7gh6v9"
      },
      "source": [
        "We'll again check if any NaN/null values are present or not"
      ]
    },
    {
      "cell_type": "code",
      "metadata": {
        "colab": {
          "base_uri": "https://localhost:8080/"
        },
        "id": "kh8XniaWc2tC",
        "outputId": "7f3468cb-2dbe-4e4f-eb73-3bfecdf4686f"
      },
      "source": [
        "df.isna().sum()"
      ],
      "execution_count": null,
      "outputs": [
        {
          "output_type": "execute_result",
          "data": {
            "text/plain": [
              "name                                8\n",
              "days_added_since                    8\n",
              "page_views_per_user_value_days_1    8\n",
              "price_usd                           8\n",
              "volume_24h                          8\n",
              "num_market_pairs                    8\n",
              "market_cap                          8\n",
              "dtype: int64"
            ]
          },
          "metadata": {
            "tags": []
          },
          "execution_count": 91
        }
      ]
    },
    {
      "cell_type": "markdown",
      "metadata": {
        "id": "sSMALo7piCjv"
      },
      "source": [
        "We observe, there are total 8 NaN values, hence we'll drop them."
      ]
    },
    {
      "cell_type": "code",
      "metadata": {
        "id": "GXfRePXNFhcw"
      },
      "source": [
        "df.dropna(inplace=True)"
      ],
      "execution_count": null,
      "outputs": []
    },
    {
      "cell_type": "markdown",
      "metadata": {
        "id": "7pqDDC_UiOMm"
      },
      "source": [
        "There are no NaN values now."
      ]
    },
    {
      "cell_type": "code",
      "metadata": {
        "colab": {
          "base_uri": "https://localhost:8080/"
        },
        "id": "qaB4WSfcdKt6",
        "outputId": "8b1ceff7-9268-4c5e-ccfd-8d7174131b30"
      },
      "source": [
        "df.isna().sum()"
      ],
      "execution_count": null,
      "outputs": [
        {
          "output_type": "execute_result",
          "data": {
            "text/plain": [
              "name                                0\n",
              "days_added_since                    0\n",
              "page_views_per_user_value_days_1    0\n",
              "price_usd                           0\n",
              "volume_24h                          0\n",
              "num_market_pairs                    0\n",
              "market_cap                          0\n",
              "dtype: int64"
            ]
          },
          "metadata": {
            "tags": []
          },
          "execution_count": 93
        }
      ]
    },
    {
      "cell_type": "code",
      "metadata": {
        "colab": {
          "base_uri": "https://localhost:8080/",
          "height": 297
        },
        "id": "ZZd39QC_Fza5",
        "outputId": "336ca3f2-5689-4663-a8f7-4f68a01acfc5"
      },
      "source": [
        "df.describe()"
      ],
      "execution_count": null,
      "outputs": [
        {
          "output_type": "execute_result",
          "data": {
            "text/html": [
              "<div>\n",
              "<style scoped>\n",
              "    .dataframe tbody tr th:only-of-type {\n",
              "        vertical-align: middle;\n",
              "    }\n",
              "\n",
              "    .dataframe tbody tr th {\n",
              "        vertical-align: top;\n",
              "    }\n",
              "\n",
              "    .dataframe thead th {\n",
              "        text-align: right;\n",
              "    }\n",
              "</style>\n",
              "<table border=\"1\" class=\"dataframe\">\n",
              "  <thead>\n",
              "    <tr style=\"text-align: right;\">\n",
              "      <th></th>\n",
              "      <th>name</th>\n",
              "      <th>days_added_since</th>\n",
              "      <th>page_views_per_user_value_days_1</th>\n",
              "      <th>price_usd</th>\n",
              "      <th>volume_24h</th>\n",
              "      <th>num_market_pairs</th>\n",
              "      <th>market_cap</th>\n",
              "    </tr>\n",
              "  </thead>\n",
              "  <tbody>\n",
              "    <tr>\n",
              "      <th>count</th>\n",
              "      <td>496474.000000</td>\n",
              "      <td>496474.000000</td>\n",
              "      <td>496474.000000</td>\n",
              "      <td>496474.000000</td>\n",
              "      <td>4.964740e+05</td>\n",
              "      <td>496474.000000</td>\n",
              "      <td>4.964740e+05</td>\n",
              "    </tr>\n",
              "    <tr>\n",
              "      <th>mean</th>\n",
              "      <td>2566.217288</td>\n",
              "      <td>581.613931</td>\n",
              "      <td>0.859598</td>\n",
              "      <td>340.798275</td>\n",
              "      <td>7.104755e+07</td>\n",
              "      <td>15.144038</td>\n",
              "      <td>3.334784e+08</td>\n",
              "    </tr>\n",
              "    <tr>\n",
              "      <th>std</th>\n",
              "      <td>1494.149498</td>\n",
              "      <td>583.675708</td>\n",
              "      <td>2.192857</td>\n",
              "      <td>4515.006772</td>\n",
              "      <td>2.128888e+09</td>\n",
              "      <td>243.776157</td>\n",
              "      <td>1.366618e+10</td>\n",
              "    </tr>\n",
              "    <tr>\n",
              "      <th>min</th>\n",
              "      <td>0.000000</td>\n",
              "      <td>0.000000</td>\n",
              "      <td>0.000000</td>\n",
              "      <td>0.000000</td>\n",
              "      <td>0.000000e+00</td>\n",
              "      <td>0.000000</td>\n",
              "      <td>0.000000e+00</td>\n",
              "    </tr>\n",
              "    <tr>\n",
              "      <th>25%</th>\n",
              "      <td>1276.000000</td>\n",
              "      <td>140.000000</td>\n",
              "      <td>0.000000</td>\n",
              "      <td>0.003065</td>\n",
              "      <td>5.290236e+01</td>\n",
              "      <td>1.000000</td>\n",
              "      <td>1.000701e+04</td>\n",
              "    </tr>\n",
              "    <tr>\n",
              "      <th>50%</th>\n",
              "      <td>2556.000000</td>\n",
              "      <td>337.000000</td>\n",
              "      <td>0.000000</td>\n",
              "      <td>0.046461</td>\n",
              "      <td>1.954393e+04</td>\n",
              "      <td>2.000000</td>\n",
              "      <td>2.824047e+05</td>\n",
              "    </tr>\n",
              "    <tr>\n",
              "      <th>75%</th>\n",
              "      <td>3862.000000</td>\n",
              "      <td>923.000000</td>\n",
              "      <td>1.000000</td>\n",
              "      <td>0.999643</td>\n",
              "      <td>4.237739e+05</td>\n",
              "      <td>5.000000</td>\n",
              "      <td>4.494830e+06</td>\n",
              "    </tr>\n",
              "    <tr>\n",
              "      <th>max</th>\n",
              "      <td>5164.000000</td>\n",
              "      <td>2909.000000</td>\n",
              "      <td>100.000000</td>\n",
              "      <td>214125.996424</td>\n",
              "      <td>3.509679e+11</td>\n",
              "      <td>12096.000000</td>\n",
              "      <td>1.186364e+12</td>\n",
              "    </tr>\n",
              "  </tbody>\n",
              "</table>\n",
              "</div>"
            ],
            "text/plain": [
              "                name  days_added_since  ...  num_market_pairs    market_cap\n",
              "count  496474.000000     496474.000000  ...     496474.000000  4.964740e+05\n",
              "mean     2566.217288        581.613931  ...         15.144038  3.334784e+08\n",
              "std      1494.149498        583.675708  ...        243.776157  1.366618e+10\n",
              "min         0.000000          0.000000  ...          0.000000  0.000000e+00\n",
              "25%      1276.000000        140.000000  ...          1.000000  1.000701e+04\n",
              "50%      2556.000000        337.000000  ...          2.000000  2.824047e+05\n",
              "75%      3862.000000        923.000000  ...          5.000000  4.494830e+06\n",
              "max      5164.000000       2909.000000  ...      12096.000000  1.186364e+12\n",
              "\n",
              "[8 rows x 7 columns]"
            ]
          },
          "metadata": {
            "tags": []
          },
          "execution_count": 94
        }
      ]
    },
    {
      "cell_type": "markdown",
      "metadata": {
        "id": "ZGmfvd7UhCUS"
      },
      "source": [
        "Now let's plot the heatmap to properly visualise the correlation between the variables."
      ]
    },
    {
      "cell_type": "code",
      "metadata": {
        "id": "1CwSNaAH0mdJ",
        "colab": {
          "base_uri": "https://localhost:8080/",
          "height": 781
        },
        "outputId": "027e437f-285c-4b72-b11c-607392079a7b"
      },
      "source": [
        "fig, ax = plot.subplots(figsize = (15,10))\n",
        "sns.heatmap(df.corr(), cmap=\"Greys\", annot = True)"
      ],
      "execution_count": null,
      "outputs": [
        {
          "output_type": "execute_result",
          "data": {
            "text/plain": [
              "<matplotlib.axes._subplots.AxesSubplot at 0x7f4c6a421390>"
            ]
          },
          "metadata": {
            "tags": []
          },
          "execution_count": 95
        },
        {
          "output_type": "display_data",
          "data": {
            "image/png": "[encoded data removed]",
            "text/plain": [
              "<Figure size 1080x720 with 2 Axes>"
            ]
          },
          "metadata": {
            "tags": [],
            "needs_background": "light"
          }
        }
      ]
    },
    {
      "cell_type": "markdown",
      "metadata": {
        "id": "pcRlYmpOhQdJ"
      },
      "source": [
        "As we can see, volume_24h and num_market_pairs are highly correlated to the target variable"
      ]
    },
    {
      "cell_type": "markdown",
      "metadata": {
        "id": "9oGfHXcFham0"
      },
      "source": [
        "Now plotting the boxplot, we observe that as the values are in high range, many values might be treated as outliers even though they are not."
      ]
    },
    {
      "cell_type": "code",
      "metadata": {
        "id": "9zOjn5rO1SCJ"
      },
      "source": [
        "for i in ['price_usd', 'volume_24h', 'num_market_pairs']:\n",
        "    sns.boxplot(df[i])\n",
        "    print(\"Skew value: \", df[i].skew())\n",
        "    plot.title(i)\n",
        "    plot.show()"
      ],
      "execution_count": null,
      "outputs": []
    },
    {
      "cell_type": "markdown",
      "metadata": {
        "id": "sWUeHgTsi3Jn"
      },
      "source": [
        "To normalise the data, we'll replace the value with it's cube root."
      ]
    },
    {
      "cell_type": "code",
      "metadata": {
        "id": "nJorfy0xLTJF"
      },
      "source": [
        "df['volume_24h']=np.cbrt(df.volume_24h)"
      ],
      "execution_count": null,
      "outputs": []
    },
    {
      "cell_type": "code",
      "metadata": {
        "id": "mH4-U7LTN_Ke"
      },
      "source": [
        "df['market_cap']=np.cbrt(df.market_cap)"
      ],
      "execution_count": null,
      "outputs": []
    },
    {
      "cell_type": "markdown",
      "metadata": {
        "id": "R0NEkYmHjLx-"
      },
      "source": [
        "We can see, the range is reduced now"
      ]
    },
    {
      "cell_type": "code",
      "metadata": {
        "id": "d7LmLUa4ctYP",
        "colab": {
          "base_uri": "https://localhost:8080/",
          "height": 297
        },
        "outputId": "368b33f9-d7f8-4247-fc1a-d0d2d4e2445d"
      },
      "source": [
        "df.describe()"
      ],
      "execution_count": null,
      "outputs": [
        {
          "output_type": "execute_result",
          "data": {
            "text/html": [
              "<div>\n",
              "<style scoped>\n",
              "    .dataframe tbody tr th:only-of-type {\n",
              "        vertical-align: middle;\n",
              "    }\n",
              "\n",
              "    .dataframe tbody tr th {\n",
              "        vertical-align: top;\n",
              "    }\n",
              "\n",
              "    .dataframe thead th {\n",
              "        text-align: right;\n",
              "    }\n",
              "</style>\n",
              "<table border=\"1\" class=\"dataframe\">\n",
              "  <thead>\n",
              "    <tr style=\"text-align: right;\">\n",
              "      <th></th>\n",
              "      <th>name</th>\n",
              "      <th>days_added_since</th>\n",
              "      <th>page_views_per_user_value_days_1</th>\n",
              "      <th>price_usd</th>\n",
              "      <th>volume_24h</th>\n",
              "      <th>num_market_pairs</th>\n",
              "      <th>market_cap</th>\n",
              "    </tr>\n",
              "  </thead>\n",
              "  <tbody>\n",
              "    <tr>\n",
              "      <th>count</th>\n",
              "      <td>496474.000000</td>\n",
              "      <td>496474.000000</td>\n",
              "      <td>496474.000000</td>\n",
              "      <td>496474.000000</td>\n",
              "      <td>496474.000000</td>\n",
              "      <td>496474.000000</td>\n",
              "      <td>496474.000000</td>\n",
              "    </tr>\n",
              "    <tr>\n",
              "      <th>mean</th>\n",
              "      <td>2566.217288</td>\n",
              "      <td>581.613931</td>\n",
              "      <td>0.859598</td>\n",
              "      <td>340.798275</td>\n",
              "      <td>72.313460</td>\n",
              "      <td>15.144038</td>\n",
              "      <td>145.642189</td>\n",
              "    </tr>\n",
              "    <tr>\n",
              "      <th>std</th>\n",
              "      <td>1494.149498</td>\n",
              "      <td>583.675708</td>\n",
              "      <td>2.192857</td>\n",
              "      <td>4515.006772</td>\n",
              "      <td>177.900194</td>\n",
              "      <td>243.776157</td>\n",
              "      <td>289.230924</td>\n",
              "    </tr>\n",
              "    <tr>\n",
              "      <th>min</th>\n",
              "      <td>0.000000</td>\n",
              "      <td>0.000000</td>\n",
              "      <td>0.000000</td>\n",
              "      <td>0.000000</td>\n",
              "      <td>0.000000</td>\n",
              "      <td>0.000000</td>\n",
              "      <td>0.000000</td>\n",
              "    </tr>\n",
              "    <tr>\n",
              "      <th>25%</th>\n",
              "      <td>1276.000000</td>\n",
              "      <td>140.000000</td>\n",
              "      <td>0.000000</td>\n",
              "      <td>0.003065</td>\n",
              "      <td>3.753978</td>\n",
              "      <td>1.000000</td>\n",
              "      <td>21.549380</td>\n",
              "    </tr>\n",
              "    <tr>\n",
              "      <th>50%</th>\n",
              "      <td>2556.000000</td>\n",
              "      <td>337.000000</td>\n",
              "      <td>0.000000</td>\n",
              "      <td>0.046461</td>\n",
              "      <td>26.936261</td>\n",
              "      <td>2.000000</td>\n",
              "      <td>65.608073</td>\n",
              "    </tr>\n",
              "    <tr>\n",
              "      <th>75%</th>\n",
              "      <td>3862.000000</td>\n",
              "      <td>923.000000</td>\n",
              "      <td>1.000000</td>\n",
              "      <td>0.999643</td>\n",
              "      <td>75.112360</td>\n",
              "      <td>5.000000</td>\n",
              "      <td>165.033115</td>\n",
              "    </tr>\n",
              "    <tr>\n",
              "      <th>max</th>\n",
              "      <td>5164.000000</td>\n",
              "      <td>2909.000000</td>\n",
              "      <td>100.000000</td>\n",
              "      <td>214125.996424</td>\n",
              "      <td>7053.789298</td>\n",
              "      <td>12096.000000</td>\n",
              "      <td>10586.181246</td>\n",
              "    </tr>\n",
              "  </tbody>\n",
              "</table>\n",
              "</div>"
            ],
            "text/plain": [
              "                name  days_added_since  ...  num_market_pairs     market_cap\n",
              "count  496474.000000     496474.000000  ...     496474.000000  496474.000000\n",
              "mean     2566.217288        581.613931  ...         15.144038     145.642189\n",
              "std      1494.149498        583.675708  ...        243.776157     289.230924\n",
              "min         0.000000          0.000000  ...          0.000000       0.000000\n",
              "25%      1276.000000        140.000000  ...          1.000000      21.549380\n",
              "50%      2556.000000        337.000000  ...          2.000000      65.608073\n",
              "75%      3862.000000        923.000000  ...          5.000000     165.033115\n",
              "max      5164.000000       2909.000000  ...      12096.000000   10586.181246\n",
              "\n",
              "[8 rows x 7 columns]"
            ]
          },
          "metadata": {
            "tags": []
          },
          "execution_count": 100
        }
      ]
    },
    {
      "cell_type": "markdown",
      "metadata": {
        "id": "t3ZxUQOTjbr2"
      },
      "source": [
        "Seperating the target variable from the dataset"
      ]
    },
    {
      "cell_type": "code",
      "metadata": {
        "id": "_qPPKp2YAib0"
      },
      "source": [
        "X = df.drop(\"market_cap\", axis=1)\n",
        "y = df['market_cap']"
      ],
      "execution_count": null,
      "outputs": []
    },
    {
      "cell_type": "markdown",
      "metadata": {
        "id": "AJVsboCnjhGc"
      },
      "source": [
        "Splitting the data into train and test"
      ]
    },
    {
      "cell_type": "code",
      "metadata": {
        "id": "3GowBTMiBD0v"
      },
      "source": [
        "X_train, X_test, y_train, y_test = train_test_split(X, y, random_state=0, test_size = 0.3)"
      ],
      "execution_count": null,
      "outputs": []
    },
    {
      "cell_type": "markdown",
      "metadata": {
        "id": "bXkz-q5oj2iQ"
      },
      "source": [
        "As the target variable is continous, we make use of different regression models to predict."
      ]
    },
    {
      "cell_type": "markdown",
      "metadata": {
        "id": "buEkRVN3dgcc"
      },
      "source": [
        "# Linear Regression"
      ]
    },
    {
      "cell_type": "code",
      "metadata": {
        "id": "70c4yZwZKLp5",
        "colab": {
          "base_uri": "https://localhost:8080/"
        },
        "outputId": "126308c2-e969-4534-a93c-6a5fc32548a5"
      },
      "source": [
        "lin_reg = LinearRegression()\n",
        "lin_reg.fit(X_train,y_train)"
      ],
      "execution_count": null,
      "outputs": [
        {
          "output_type": "execute_result",
          "data": {
            "text/plain": [
              "LinearRegression(copy_X=True, fit_intercept=True, n_jobs=None, normalize=False)"
            ]
          },
          "metadata": {
            "tags": []
          },
          "execution_count": 30
        }
      ]
    },
    {
      "cell_type": "code",
      "metadata": {
        "id": "73IHFz8TDb6a"
      },
      "source": [
        "predictions_test = lin_reg.predict(X_test)\n",
        "predictions_train = lin_reg.predict(X_train)"
      ],
      "execution_count": null,
      "outputs": []
    },
    {
      "cell_type": "code",
      "metadata": {
        "colab": {
          "base_uri": "https://localhost:8080/"
        },
        "id": "3Sy0788UGCWp",
        "outputId": "534f09f7-83d1-4c56-a1c0-effbfbce65f4"
      },
      "source": [
        "lin_reg.score(X_test, y_test)"
      ],
      "execution_count": null,
      "outputs": [
        {
          "output_type": "execute_result",
          "data": {
            "text/plain": [
              "0.735324549190525"
            ]
          },
          "metadata": {
            "tags": []
          },
          "execution_count": 32
        }
      ]
    },
    {
      "cell_type": "code",
      "metadata": {
        "colab": {
          "base_uri": "https://localhost:8080/"
        },
        "id": "dK5c5O99HIR0",
        "outputId": "b032a2c7-b0a7-4270-b4d1-cd83d9f8d4e3"
      },
      "source": [
        "print(metrics.mean_absolute_error(y_test, predictions_test))\n",
        "print(metrics.mean_squared_error(y_test, predictions_test))\n",
        "print(np.sqrt(metrics.mean_squared_error(y_test, predictions_test)))"
      ],
      "execution_count": null,
      "outputs": [
        {
          "output_type": "stream",
          "text": [
            "73.13084317684526\n",
            "22911.43660049538\n",
            "151.3652423791386\n"
          ],
          "name": "stdout"
        }
      ]
    },
    {
      "cell_type": "markdown",
      "metadata": {
        "id": "3zZRVu3YuQ_q"
      },
      "source": [
        "# Ridge Regression"
      ]
    },
    {
      "cell_type": "markdown",
      "metadata": {
        "id": "PsOKeMh72ccA"
      },
      "source": [
        "Referred from: https://www.analyticsvidhya.com/blog/2016/01/ridge-lasso-regression-python-complete-tutorial/"
      ]
    },
    {
      "cell_type": "code",
      "metadata": {
        "id": "fbwblzFNubMB"
      },
      "source": [
        "from sklearn.linear_model import Ridge"
      ],
      "execution_count": null,
      "outputs": []
    },
    {
      "cell_type": "code",
      "metadata": {
        "id": "domGZ3e8uV_M"
      },
      "source": [
        "ridge_reg = Ridge(alpha=0.0001,normalize=True)"
      ],
      "execution_count": null,
      "outputs": []
    },
    {
      "cell_type": "code",
      "metadata": {
        "id": "pu6rCC1rut4n",
        "colab": {
          "base_uri": "https://localhost:8080/"
        },
        "outputId": "be035ec4-27c4-4537-960d-11a58e3e5233"
      },
      "source": [
        "ridge_reg.fit(X_train, y_train)"
      ],
      "execution_count": null,
      "outputs": [
        {
          "output_type": "execute_result",
          "data": {
            "text/plain": [
              "Ridge(alpha=0.0001, copy_X=True, fit_intercept=True, max_iter=None,\n",
              "      normalize=True, random_state=None, solver='auto', tol=0.001)"
            ]
          },
          "metadata": {
            "tags": []
          },
          "execution_count": 36
        }
      ]
    },
    {
      "cell_type": "code",
      "metadata": {
        "id": "mKjuGH07u4wG"
      },
      "source": [
        "y_pred = ridge_reg.predict(X_test)"
      ],
      "execution_count": null,
      "outputs": []
    },
    {
      "cell_type": "code",
      "metadata": {
        "id": "C51UlUBGu9dP",
        "colab": {
          "base_uri": "https://localhost:8080/"
        },
        "outputId": "eef392ad-d5df-4b59-cbb7-3713fde5ff6d"
      },
      "source": [
        "ridge_reg.score(X_test, y_test)"
      ],
      "execution_count": null,
      "outputs": [
        {
          "output_type": "execute_result",
          "data": {
            "text/plain": [
              "0.7353268771949577"
            ]
          },
          "metadata": {
            "tags": []
          },
          "execution_count": 38
        }
      ]
    },
    {
      "cell_type": "code",
      "metadata": {
        "id": "eqdFic2RvFsQ",
        "colab": {
          "base_uri": "https://localhost:8080/"
        },
        "outputId": "87de3db4-04dd-4384-f470-6530214e48a7"
      },
      "source": [
        "print(metrics.mean_absolute_error(y_test, y_pred))\n",
        "print(metrics.mean_squared_error(y_test, y_pred))\n",
        "print(np.sqrt(metrics.mean_squared_error(y_test, y_pred)))"
      ],
      "execution_count": null,
      "outputs": [
        {
          "output_type": "stream",
          "text": [
            "73.1345482376623\n",
            "22911.235078496247\n",
            "151.36457669645247\n"
          ],
          "name": "stdout"
        }
      ]
    },
    {
      "cell_type": "markdown",
      "metadata": {
        "id": "iuezFBrfvXw9"
      },
      "source": [
        "# Lasso Regression"
      ]
    },
    {
      "cell_type": "markdown",
      "metadata": {
        "id": "f5dr6j2q2aOS"
      },
      "source": [
        "Referred from: https://www.analyticsvidhya.com/blog/2016/01/ridge-lasso-regression-python-complete-tutorial/"
      ]
    },
    {
      "cell_type": "code",
      "metadata": {
        "id": "CZ1RPRsYvcy2"
      },
      "source": [
        "from sklearn.linear_model import Lasso"
      ],
      "execution_count": null,
      "outputs": []
    },
    {
      "cell_type": "code",
      "metadata": {
        "id": "ohUntgfsveAs"
      },
      "source": [
        "lassoreg = Lasso(alpha=0.0001,normalize=True, max_iter=1e5)"
      ],
      "execution_count": null,
      "outputs": []
    },
    {
      "cell_type": "code",
      "metadata": {
        "id": "6Xp_1xhNvu8Z"
      },
      "source": [
        "lassoreg.fit(X_train, y_train)"
      ],
      "execution_count": null,
      "outputs": []
    },
    {
      "cell_type": "code",
      "metadata": {
        "id": "5zPb-9eAvzop"
      },
      "source": [
        "y_pred = lassoreg.predict(X_test)"
      ],
      "execution_count": null,
      "outputs": []
    },
    {
      "cell_type": "code",
      "metadata": {
        "id": "bdu_Hk9_v2i7"
      },
      "source": [
        "lassoreg.score(X_test, y_test)"
      ],
      "execution_count": null,
      "outputs": []
    },
    {
      "cell_type": "code",
      "metadata": {
        "id": "1XrxJ0J3v98P"
      },
      "source": [
        "print(metrics.mean_absolute_error(y_test, y_pred))\n",
        "print(metrics.mean_squared_error(y_test, y_pred))\n",
        "print(np.sqrt(metrics.mean_squared_error(y_test, y_pred)))"
      ],
      "execution_count": null,
      "outputs": []
    },
    {
      "cell_type": "markdown",
      "metadata": {
        "id": "hHfpsYDBdoXj"
      },
      "source": [
        "# Polynomial Regression"
      ]
    },
    {
      "cell_type": "markdown",
      "metadata": {
        "id": "UtZ_fScT2O9w"
      },
      "source": [
        "Referred from: https://www.kaggle.com/rahulkadam0909/polynomial"
      ]
    },
    {
      "cell_type": "code",
      "metadata": {
        "id": "E78L-5Ysyj0p"
      },
      "source": [
        "from sklearn.preprocessing import PolynomialFeatures"
      ],
      "execution_count": null,
      "outputs": []
    },
    {
      "cell_type": "code",
      "metadata": {
        "id": "qUmafnIoymKX",
        "colab": {
          "base_uri": "https://localhost:8080/"
        },
        "outputId": "1d267dec-36e0-4634-c74a-57672666ceac"
      },
      "source": [
        "poly = PolynomialFeatures(degree = 4)\n",
        "X_poly = poly.fit_transform(X_train)\n",
        "poly.fit(X_poly, y_train)\n",
        "\n",
        "lin2 = LinearRegression()\n",
        "lin2.fit(X_poly, y_train)"
      ],
      "execution_count": null,
      "outputs": [
        {
          "output_type": "execute_result",
          "data": {
            "text/plain": [
              "LinearRegression(copy_X=True, fit_intercept=True, n_jobs=None, normalize=False)"
            ]
          },
          "metadata": {
            "tags": []
          },
          "execution_count": 41
        }
      ]
    },
    {
      "cell_type": "code",
      "metadata": {
        "id": "ZBfG1YPM1sEz"
      },
      "source": [
        "y_pred = lin2.predict(poly.fit_transform(X_test))"
      ],
      "execution_count": null,
      "outputs": []
    },
    {
      "cell_type": "code",
      "metadata": {
        "id": "LcfQr7wD1_Cq",
        "colab": {
          "base_uri": "https://localhost:8080/"
        },
        "outputId": "c173ed31-23e8-4b80-a2ee-7636587ff6f0"
      },
      "source": [
        "print(metrics.mean_absolute_error(y_test, y_pred))\n",
        "print(metrics.mean_squared_error(y_test, y_pred))\n",
        "print(np.sqrt(metrics.mean_squared_error(y_test, y_pred)))"
      ],
      "execution_count": null,
      "outputs": [
        {
          "output_type": "stream",
          "text": [
            "67.65212704494394\n",
            "40419.111747239476\n",
            "201.04504904931002\n"
          ],
          "name": "stdout"
        }
      ]
    },
    {
      "cell_type": "markdown",
      "metadata": {
        "id": "TG_3C2pRbL6y"
      },
      "source": [
        "# Neural Networks"
      ]
    },
    {
      "cell_type": "markdown",
      "metadata": {
        "id": "imJDGkMdkjpI"
      },
      "source": [
        "Referred from: https://towardsdatascience.com/deep-neural-networks-for-regression-problems-81321897ca33"
      ]
    },
    {
      "cell_type": "code",
      "metadata": {
        "id": "qYsbDIYUbO1n"
      },
      "source": [
        "from keras.callbacks import ModelCheckpoint\n",
        "from keras.models import Sequential\n",
        "from keras.layers import Dense, Activation, Flatten"
      ],
      "execution_count": null,
      "outputs": []
    },
    {
      "cell_type": "code",
      "metadata": {
        "id": "Nf2YkbZ0bR3L"
      },
      "source": [
        "NN_model = Sequential()\n",
        "\n",
        "NN_model.add(Dense(128, kernel_initializer='normal',input_dim = X_train.shape[1], activation='relu'))\n",
        "\n",
        "NN_model.add(Dense(256, kernel_initializer='normal',activation='relu'))\n",
        "NN_model.add(Dense(256, kernel_initializer='normal',activation='relu'))\n",
        "NN_model.add(Dense(256, kernel_initializer='normal',activation='relu'))\n",
        "\n",
        "NN_model.add(Dense(1, kernel_initializer='normal',activation='linear'))\n",
        "\n",
        "NN_model.compile(loss='mean_absolute_error', optimizer='adam', metrics=['mean_absolute_error'])\n",
        "NN_model.summary()"
      ],
      "execution_count": null,
      "outputs": []
    },
    {
      "cell_type": "code",
      "metadata": {
        "id": "ahwC4ojrbmzk"
      },
      "source": [
        "cp_name = 'Weights-{epoch:03d}--{val_loss:.5f}.hdf5' \n",
        "cp = ModelCheckpoint(cp_name, monitor='val_loss', verbose = 1, save_best_only = True, mode ='auto')\n",
        "cb_list = [cp]"
      ],
      "execution_count": null,
      "outputs": []
    },
    {
      "cell_type": "code",
      "metadata": {
        "id": "PrmAp38wbtDy"
      },
      "source": [
        "NN_model.fit(X_train, y_train, epochs=10, batch_size=32, validation_split = 0.2, callbacks=cb_list)"
      ],
      "execution_count": null,
      "outputs": []
    },
    {
      "cell_type": "code",
      "metadata": {
        "id": "ryAvV_QxeF26"
      },
      "source": [
        "y_pred = NN_model.predict(X_test)\n",
        "y_train_pred = NN_model.predict(X_train)"
      ],
      "execution_count": null,
      "outputs": []
    },
    {
      "cell_type": "code",
      "metadata": {
        "colab": {
          "base_uri": "https://localhost:8080/"
        },
        "id": "I69sC30QeItr",
        "outputId": "6b6c95c7-f235-4155-9cfb-99618012ffd0"
      },
      "source": [
        "print(metrics.mean_absolute_error(y_test, y_pred))\n",
        "print(metrics.mean_squared_error(y_test, y_pred))\n",
        "print(np.sqrt(metrics.mean_squared_error(y_test, y_pred)))"
      ],
      "execution_count": null,
      "outputs": [
        {
          "output_type": "stream",
          "text": [
            "51.914569558043446\n",
            "12031.298505277848\n",
            "109.68727594975566\n"
          ],
          "name": "stdout"
        }
      ]
    },
    {
      "cell_type": "code",
      "metadata": {
        "colab": {
          "base_uri": "https://localhost:8080/"
        },
        "id": "0aIyQ5_xenBa",
        "outputId": "0a79fe4f-b3e2-4a49-b50b-5fa30421622a"
      },
      "source": [
        "print(metrics.mean_absolute_error(y_train, y_train_pred))\n",
        "print(metrics.mean_squared_error(y_train, y_train_pred))\n",
        "print(np.sqrt(metrics.mean_squared_error(y_train, y_train_pred)))"
      ],
      "execution_count": null,
      "outputs": [
        {
          "output_type": "stream",
          "text": [
            "51.79919222139175\n",
            "11876.207843420263\n",
            "108.97801541329454\n"
          ],
          "name": "stdout"
        }
      ]
    },
    {
      "cell_type": "markdown",
      "metadata": {
        "id": "BXMf-fOYkqv6"
      },
      "source": [
        "# Conclusion"
      ]
    },
    {
      "cell_type": "markdown",
      "metadata": {
        "id": "8HP518qKktMK"
      },
      "source": [
        "We made use of various regression and NN models to predict our target variable. We observed that Linear, Lasso, and Ridge performed similarly. NN performed best among all."
      ]
    }
  ]
}